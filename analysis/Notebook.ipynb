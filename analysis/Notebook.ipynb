{
 "cells": [
  {
   "cell_type": "markdown",
   "id": "3d74cb11-e25f-44bb-8e9e-d613369c05dd",
   "metadata": {},
   "source": [
    "# Look at some data"
   ]
  },
  {
   "cell_type": "code",
   "execution_count": 1,
   "id": "ad16eb4f-1628-4b30-b25f-88e36771430c",
   "metadata": {},
   "outputs": [],
   "source": [
    "import datetime\n",
    "import pandas as pd\n",
    "import matplotlib.pyplot as plt\n",
    "import matplotlib.dates as dates\n",
    "import numpy as np\n",
    "%matplotlib widget"
   ]
  },
  {
   "cell_type": "code",
   "execution_count": 2,
   "id": "019f1afe-cd54-467a-af54-f076c6296e86",
   "metadata": {},
   "outputs": [],
   "source": [
    "def comp(df_true, df_test):\n",
    "    s_true = df_true.sum()\n",
    "    s_test = df_test.sum()\n",
    "    err = s_test - s_true\n",
    "    err_rel = err/s_true\n",
    "    print(\"err\")\n",
    "    print(err)\n",
    "    print(\"err rel\")\n",
    "    print(err_rel)"
   ]
  },
  {
   "cell_type": "code",
   "execution_count": 3,
   "id": "43bcb6c1-c4f8-44fc-bf44-a9e726494864",
   "metadata": {},
   "outputs": [
    {
     "name": "stdout",
     "output_type": "stream",
     "text": [
      "(604531, 2)\n"
     ]
    }
   ],
   "source": [
    "df = pd.read_csv(\"log.2021-05-22.2021-05-28\", delim_whitespace=True,\n",
    "    index_col=0, parse_dates=True, header=None,\n",
    "    names=['time','angle','volume_ul'], skiprows=0, memory_map=True,\n",
    "    engine=\"c\")\n",
    "\n",
    "print(df.shape)"
   ]
  },
  {
   "cell_type": "code",
   "execution_count": 4,
   "id": "65514b10-12e5-40d1-a2c2-1c0acdedf14a",
   "metadata": {},
   "outputs": [],
   "source": [
    "UL_PER_GALLON = 3785411.784\n",
    "df['volume_gal']=df['volume_ul']/UL_PER_GALLON"
   ]
  },
  {
   "cell_type": "code",
   "execution_count": 5,
   "id": "e0e931a2-c94e-47c8-bb5f-bab1f6d557bc",
   "metadata": {},
   "outputs": [],
   "source": [
    "df=df.drop(columns=['angle', 'volume_ul'])\n",
    "df = df.resample('S').sum()"
   ]
  },
  {
   "cell_type": "markdown",
   "id": "10e91c3f-b0ec-408e-9227-6119004c22cd",
   "metadata": {},
   "source": [
    "# Noise"
   ]
  },
  {
   "cell_type": "code",
   "execution_count": 6,
   "id": "87ee24f7-d6da-4429-8ca7-788868d36c16",
   "metadata": {
    "tags": []
   },
   "outputs": [
    {
     "data": {
      "application/vnd.jupyter.widget-view+json": {
       "model_id": "a8eae8b69a7e4864a1438f4f5a7dcdc5",
       "version_major": 2,
       "version_minor": 0
      },
      "text/plain": [
       "Canvas(toolbar=Toolbar(toolitems=[('Home', 'Reset original view', 'home', 'home'), ('Back', 'Back to previous …"
      ]
     },
     "metadata": {},
     "output_type": "display_data"
    },
    {
     "data": {
      "text/plain": [
       "<matplotlib.collections.PathCollection at 0x7fe5104b6820>"
      ]
     },
     "execution_count": 6,
     "metadata": {},
     "output_type": "execute_result"
    }
   ],
   "source": [
    "plt.subplots()\n",
    "plt.xlim([dates.datestr2num('2021-05-26 16:30'), dates.datestr2num('2021-05-26 16:50')])\n",
    "plt.ylim([-0.001,0.001])\n",
    "plt.scatter(x=df.index, y=df['volume_gal'].to_numpy(), s=1)"
   ]
  },
  {
   "cell_type": "markdown",
   "id": "50bf32e2-3aae-43a7-9930-46b8bd58ed1e",
   "metadata": {},
   "source": [
    "The shutoff events produce significant backwards spikes, which i think is real.  The angle measure is up to 40k which is >2 turns, but mostly under 10k i.e. half a turn.\n",
    "\n",
    "The noise at zero is mostly small, like 100 on the angle scale (2 degrees), but there are periods with more noise, like up to 1000 (20 degrees), which seems like a lot for a flow that's really zero, and then at some times of day it's much higher, like 40k, several turns. In terms of volume it's negligible, but what is it?\n",
    "\n",
    "I don't think it's magnetometer noise, it has a negative trend during some hours of the day. The meter isn't *accurate* for such low flows but it does *work* so i think it's real.\n",
    "\n",
    "I think it's the __water heater.__  It doesn't exist in the early morning, but it turns on after showers.  The expansion has to go *somewhere*."
   ]
  },
  {
   "cell_type": "code",
   "execution_count": 7,
   "id": "a3a5dd53-95a6-4dfc-ac1c-2a42aa182f64",
   "metadata": {},
   "outputs": [
    {
     "name": "stdout",
     "output_type": "stream",
     "text": [
      "err\n",
      "volume_gal   -2.556514\n",
      "dtype: float64\n",
      "err rel\n",
      "volume_gal   -0.000583\n",
      "dtype: float64\n"
     ]
    },
    {
     "data": {
      "application/vnd.jupyter.widget-view+json": {
       "model_id": "7946a3b79e6e406984b539df2f5d17d4",
       "version_major": 2,
       "version_minor": 0
      },
      "text/plain": [
       "Canvas(toolbar=Toolbar(toolitems=[('Home', 'Reset original view', 'home', 'home'), ('Back', 'Back to previous …"
      ]
     },
     "metadata": {},
     "output_type": "display_data"
    },
    {
     "data": {
      "text/plain": [
       "<matplotlib.legend.Legend at 0x7fe517d957f0>"
      ]
     },
     "execution_count": 7,
     "metadata": {},
     "output_type": "execute_result"
    }
   ],
   "source": [
    "df_med = df.rolling(3, center=True).median().fillna(0)\n",
    "comp(df, df_med)\n",
    "plt.subplots()\n",
    "plt.plot(df.index, df['volume_gal'].to_numpy(), label=\"true\")\n",
    "plt.plot(df_med.index, df_med['volume_gal'].to_numpy(), label=\"median\")\n",
    "plt.legend()"
   ]
  },
  {
   "cell_type": "markdown",
   "id": "e452bdf1-7d8f-41c2-9f97-8e1df5df6a64",
   "metadata": {},
   "source": [
    "# Discretization"
   ]
  },
  {
   "cell_type": "code",
   "execution_count": 8,
   "id": "0def0000-e34f-42a4-bea1-79d304fff7ea",
   "metadata": {},
   "outputs": [
    {
     "name": "stdout",
     "output_type": "stream",
     "text": [
      "                     volume_gal\n",
      "time                           \n",
      "2021-05-22 00:00:00         0.0\n",
      "2021-05-22 00:00:01         0.0\n",
      "2021-05-22 00:00:02        -0.0\n",
      "2021-05-22 00:00:03        -0.0\n",
      "2021-05-22 00:00:04        -0.0\n",
      "...                         ...\n",
      "2021-05-28 23:59:55        -0.0\n",
      "2021-05-28 23:59:56        -0.0\n",
      "2021-05-28 23:59:57        -0.0\n",
      "2021-05-28 23:59:58        -0.0\n",
      "2021-05-28 23:59:59         0.0\n",
      "\n",
      "[604800 rows x 1 columns]\n",
      "err\n",
      "volume_gal    34.439377\n",
      "dtype: float64\n",
      "err rel\n",
      "volume_gal    0.007848\n",
      "dtype: float64\n"
     ]
    },
    {
     "data": {
      "application/vnd.jupyter.widget-view+json": {
       "model_id": "156c2ecb38184017bc83dd03a0012424",
       "version_major": 2,
       "version_minor": 0
      },
      "text/plain": [
       "Canvas(toolbar=Toolbar(toolitems=[('Home', 'Reset original view', 'home', 'home'), ('Back', 'Back to previous …"
      ]
     },
     "metadata": {},
     "output_type": "display_data"
    }
   ],
   "source": [
    "df_med_disc = 2 * (df_med * 0.5).round(2)\n",
    "print(df_med_disc)\n",
    "comp(df, df_med_disc)\n",
    "plt.subplots()\n",
    "plt.plot(df.index, df['volume_gal'].to_numpy(), label=\"true\")\n",
    "plt.plot(df_med_disc.index, df_med_disc['volume_gal'].to_numpy(), label='disc')\n",
    "plt.legend()\n",
    "plt.grid()"
   ]
  },
  {
   "cell_type": "markdown",
   "id": "71d7c5f4-bc18-484c-9edd-c59ba59ebc7f",
   "metadata": {},
   "source": [
    "Holy mackerel, this is pretty good, <1% error."
   ]
  },
  {
   "cell_type": "code",
   "execution_count": 9,
   "id": "d07776be-9592-4357-86be-fbd73711a630",
   "metadata": {},
   "outputs": [
    {
     "name": "stdout",
     "output_type": "stream",
     "text": [
      "volume_gal    11\n",
      "dtype: int64\n"
     ]
    }
   ],
   "source": [
    "print(df_med_disc.nunique())"
   ]
  },
  {
   "cell_type": "code",
   "execution_count": 10,
   "id": "e07444fb-0408-4e8a-835a-3c8e328a22c2",
   "metadata": {},
   "outputs": [
    {
     "name": "stdout",
     "output_type": "stream",
     "text": [
      "3731\n",
      "volume_gal    30\n",
      "dtype: int64\n"
     ]
    }
   ],
   "source": [
    "deltas = df_med_disc[df_med_disc['volume_gal'].shift() != df_med_disc['volume_gal']].diff().fillna(0)\n",
    "print(len(deltas))\n",
    "print(deltas.nunique())"
   ]
  },
  {
   "cell_type": "markdown",
   "id": "367f655a-33f4-46f9-8b83-4cd81dda9085",
   "metadata": {},
   "source": [
    "So this is a vocabulary with 30 unique tokens, and a week is <4000 tokens long, so a day would be in the ballpark for a transformer model."
   ]
  }
 ],
 "metadata": {
  "kernelspec": {
   "display_name": "Python 3",
   "language": "python",
   "name": "python3"
  },
  "language_info": {
   "codemirror_mode": {
    "name": "ipython",
    "version": 3
   },
   "file_extension": ".py",
   "mimetype": "text/x-python",
   "name": "python",
   "nbconvert_exporter": "python",
   "pygments_lexer": "ipython3",
   "version": "3.8.5"
  }
 },
 "nbformat": 4,
 "nbformat_minor": 5
}
